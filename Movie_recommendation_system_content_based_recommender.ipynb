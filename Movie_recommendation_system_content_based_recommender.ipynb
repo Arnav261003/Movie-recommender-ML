{
  "nbformat": 4,
  "nbformat_minor": 0,
  "metadata": {
    "colab": {
      "provenance": []
    },
    "kernelspec": {
      "name": "python3",
      "display_name": "Python 3"
    },
    "language_info": {
      "name": "python"
    }
  },
  "cells": [
    {
      "cell_type": "code",
      "source": [
        "import numpy as np # linear algebra\n",
        "import pandas as pd # data processing, CSV file I/O (e.g. pd.read_csv)\n",
        "\n",
        "# Input data files are available in the read-only \"../input/\" directory\n",
        "# For example, running this (by clicking run or pressing Shift+Enter) will list all files under the input directory\n",
        "\n",
        "import os\n",
        "for dirname, _, filenames in os.walk('/kaggle/input'):\n",
        "    for filename in filenames:\n",
        "        print(os.path.join(dirname, filename))"
      ],
      "metadata": {
        "id": "cf1GzyVp1ZaI"
      },
      "execution_count": null,
      "outputs": []
    },
    {
      "cell_type": "code",
      "execution_count": null,
      "metadata": {
        "id": "vZ-VtF_Vy_Tv"
      },
      "outputs": [],
      "source": [
        "import pandas as pd\n",
        "import random\n",
        "\n",
        "pd.set_option('display.max_columns', None)\n",
        "pd.set_option('display.width', 500)\n",
        "pd.set_option('display.expand_frame_repr', False)\n",
        "from sklearn.feature_extraction.text import TfidfVectorizer\n",
        "from sklearn.metrics.pairwise import cosine_similarity"
      ]
    },
    {
      "cell_type": "code",
      "source": [
        "df = pd.read_csv(\"movies_metadata.csv\",  skiprows = lambda i: i % 4)\n",
        "df.head()"
      ],
      "metadata": {
        "colab": {
          "base_uri": "https://localhost:8080/",
          "height": 642
        },
        "id": "vWSr6hXk1maS",
        "outputId": "74ff2cba-6756-4bb6-cd72-977bbc92cb6f"
      },
      "execution_count": null,
      "outputs": [
        {
          "output_type": "execute_result",
          "data": {
            "text/plain": [
              "   adult belongs_to_collection    budget                                             genres homepage     id    imdb_id original_language               original_title                                           overview popularity                       poster_path                               production_companies                               production_countries release_date      revenue  runtime                                   spoken_languages    status                                            tagline                        title  video  vote_average  vote_count\n",
              "0  False                   NaN  16000000  [{'id': 35, 'name': 'Comedy'}, {'id': 18, 'nam...      NaN  31357  tt0114885                en            Waiting to Exhale  Cheated on, mistreated and stepped on, the wom...   3.859495  /16XOMpEaLWkrcPqSQqhTmeJuqQl.jpg  [{'name': 'Twentieth Century Fox Film Corporat...  [{'iso_3166_1': 'US', 'name': 'United States o...   1995-12-22   81452156.0    127.0           [{'iso_639_1': 'en', 'name': 'English'}]  Released  Friends are the people who let you be yourself...            Waiting to Exhale  False           6.1        34.0\n",
              "1  False                   NaN         0  [{'id': 28, 'name': 'Action'}, {'id': 12, 'nam...      NaN  45325  tt0112302                en                 Tom and Huck  A mischievous young boy, Tom Sawyer, witnesses...   2.561161  /sGO5Qa55p7wTu7FJcX4H4xIVKvS.jpg        [{'name': 'Walt Disney Pictures', 'id': 2}]  [{'iso_3166_1': 'US', 'name': 'United States o...   1995-12-22          0.0     97.0  [{'iso_639_1': 'en', 'name': 'English'}, {'iso...  Released                             The Original Bad Boys.                 Tom and Huck  False           5.4        45.0\n",
              "2  False                   NaN         0  [{'id': 35, 'name': 'Comedy'}, {'id': 27, 'nam...      NaN  12110  tt0112896                en  Dracula: Dead and Loving It  When a lawyer shows up at the vampire's doorst...   5.430331  /xve4cgfYItnOhtzLYoTwTVy5FGr.jpg  [{'name': 'Columbia Pictures', 'id': 5}, {'nam...  [{'iso_3166_1': 'FR', 'name': 'France'}, {'iso...   1995-12-22          0.0     88.0  [{'iso_639_1': 'en', 'name': 'English'}, {'iso...  Released                                                NaN  Dracula: Dead and Loving It  False           5.7       210.0\n",
              "3  False                   NaN  52000000  [{'id': 18, 'name': 'Drama'}, {'id': 80, 'name...      NaN    524  tt0112641                en                       Casino  The life of the gambling paradise – Las Vegas ...  10.137389  /xo517ibXBDdYQY81j0WIG7BVcWq.jpg  [{'name': 'Universal Pictures', 'id': 33}, {'n...  [{'iso_3166_1': 'FR', 'name': 'France'}, {'iso...   1995-11-22  116112375.0    178.0           [{'iso_639_1': 'en', 'name': 'English'}]  Released                   No one stays at the top forever.                       Casino  False           7.8      1343.0\n",
              "4  False                   NaN  60000000  [{'id': 28, 'name': 'Action'}, {'id': 35, 'nam...      NaN  11517  tt0113845                en                  Money Train  A vengeful New York transit cop decides to ste...   7.337906  /jSozzzVOR2kfXgTUuGnbgG2yRFi.jpg           [{'name': 'Columbia Pictures', 'id': 5}]  [{'iso_3166_1': 'US', 'name': 'United States o...   1995-11-21   35431113.0    103.0           [{'iso_639_1': 'en', 'name': 'English'}]  Released                        Get on, or GET OUT THE WAY!                  Money Train  False           5.4       224.0"
            ],
            "text/html": [
              "\n",
              "  <div id=\"df-192b0e59-ee4c-41c2-ba16-e2f54dbfbad7\" class=\"colab-df-container\">\n",
              "    <div>\n",
              "<style scoped>\n",
              "    .dataframe tbody tr th:only-of-type {\n",
              "        vertical-align: middle;\n",
              "    }\n",
              "\n",
              "    .dataframe tbody tr th {\n",
              "        vertical-align: top;\n",
              "    }\n",
              "\n",
              "    .dataframe thead th {\n",
              "        text-align: right;\n",
              "    }\n",
              "</style>\n",
              "<table border=\"1\" class=\"dataframe\">\n",
              "  <thead>\n",
              "    <tr style=\"text-align: right;\">\n",
              "      <th></th>\n",
              "      <th>adult</th>\n",
              "      <th>belongs_to_collection</th>\n",
              "      <th>budget</th>\n",
              "      <th>genres</th>\n",
              "      <th>homepage</th>\n",
              "      <th>id</th>\n",
              "      <th>imdb_id</th>\n",
              "      <th>original_language</th>\n",
              "      <th>original_title</th>\n",
              "      <th>overview</th>\n",
              "      <th>popularity</th>\n",
              "      <th>poster_path</th>\n",
              "      <th>production_companies</th>\n",
              "      <th>production_countries</th>\n",
              "      <th>release_date</th>\n",
              "      <th>revenue</th>\n",
              "      <th>runtime</th>\n",
              "      <th>spoken_languages</th>\n",
              "      <th>status</th>\n",
              "      <th>tagline</th>\n",
              "      <th>title</th>\n",
              "      <th>video</th>\n",
              "      <th>vote_average</th>\n",
              "      <th>vote_count</th>\n",
              "    </tr>\n",
              "  </thead>\n",
              "  <tbody>\n",
              "    <tr>\n",
              "      <th>0</th>\n",
              "      <td>False</td>\n",
              "      <td>NaN</td>\n",
              "      <td>16000000</td>\n",
              "      <td>[{'id': 35, 'name': 'Comedy'}, {'id': 18, 'nam...</td>\n",
              "      <td>NaN</td>\n",
              "      <td>31357</td>\n",
              "      <td>tt0114885</td>\n",
              "      <td>en</td>\n",
              "      <td>Waiting to Exhale</td>\n",
              "      <td>Cheated on, mistreated and stepped on, the wom...</td>\n",
              "      <td>3.859495</td>\n",
              "      <td>/16XOMpEaLWkrcPqSQqhTmeJuqQl.jpg</td>\n",
              "      <td>[{'name': 'Twentieth Century Fox Film Corporat...</td>\n",
              "      <td>[{'iso_3166_1': 'US', 'name': 'United States o...</td>\n",
              "      <td>1995-12-22</td>\n",
              "      <td>81452156.0</td>\n",
              "      <td>127.0</td>\n",
              "      <td>[{'iso_639_1': 'en', 'name': 'English'}]</td>\n",
              "      <td>Released</td>\n",
              "      <td>Friends are the people who let you be yourself...</td>\n",
              "      <td>Waiting to Exhale</td>\n",
              "      <td>False</td>\n",
              "      <td>6.1</td>\n",
              "      <td>34.0</td>\n",
              "    </tr>\n",
              "    <tr>\n",
              "      <th>1</th>\n",
              "      <td>False</td>\n",
              "      <td>NaN</td>\n",
              "      <td>0</td>\n",
              "      <td>[{'id': 28, 'name': 'Action'}, {'id': 12, 'nam...</td>\n",
              "      <td>NaN</td>\n",
              "      <td>45325</td>\n",
              "      <td>tt0112302</td>\n",
              "      <td>en</td>\n",
              "      <td>Tom and Huck</td>\n",
              "      <td>A mischievous young boy, Tom Sawyer, witnesses...</td>\n",
              "      <td>2.561161</td>\n",
              "      <td>/sGO5Qa55p7wTu7FJcX4H4xIVKvS.jpg</td>\n",
              "      <td>[{'name': 'Walt Disney Pictures', 'id': 2}]</td>\n",
              "      <td>[{'iso_3166_1': 'US', 'name': 'United States o...</td>\n",
              "      <td>1995-12-22</td>\n",
              "      <td>0.0</td>\n",
              "      <td>97.0</td>\n",
              "      <td>[{'iso_639_1': 'en', 'name': 'English'}, {'iso...</td>\n",
              "      <td>Released</td>\n",
              "      <td>The Original Bad Boys.</td>\n",
              "      <td>Tom and Huck</td>\n",
              "      <td>False</td>\n",
              "      <td>5.4</td>\n",
              "      <td>45.0</td>\n",
              "    </tr>\n",
              "    <tr>\n",
              "      <th>2</th>\n",
              "      <td>False</td>\n",
              "      <td>NaN</td>\n",
              "      <td>0</td>\n",
              "      <td>[{'id': 35, 'name': 'Comedy'}, {'id': 27, 'nam...</td>\n",
              "      <td>NaN</td>\n",
              "      <td>12110</td>\n",
              "      <td>tt0112896</td>\n",
              "      <td>en</td>\n",
              "      <td>Dracula: Dead and Loving It</td>\n",
              "      <td>When a lawyer shows up at the vampire's doorst...</td>\n",
              "      <td>5.430331</td>\n",
              "      <td>/xve4cgfYItnOhtzLYoTwTVy5FGr.jpg</td>\n",
              "      <td>[{'name': 'Columbia Pictures', 'id': 5}, {'nam...</td>\n",
              "      <td>[{'iso_3166_1': 'FR', 'name': 'France'}, {'iso...</td>\n",
              "      <td>1995-12-22</td>\n",
              "      <td>0.0</td>\n",
              "      <td>88.0</td>\n",
              "      <td>[{'iso_639_1': 'en', 'name': 'English'}, {'iso...</td>\n",
              "      <td>Released</td>\n",
              "      <td>NaN</td>\n",
              "      <td>Dracula: Dead and Loving It</td>\n",
              "      <td>False</td>\n",
              "      <td>5.7</td>\n",
              "      <td>210.0</td>\n",
              "    </tr>\n",
              "    <tr>\n",
              "      <th>3</th>\n",
              "      <td>False</td>\n",
              "      <td>NaN</td>\n",
              "      <td>52000000</td>\n",
              "      <td>[{'id': 18, 'name': 'Drama'}, {'id': 80, 'name...</td>\n",
              "      <td>NaN</td>\n",
              "      <td>524</td>\n",
              "      <td>tt0112641</td>\n",
              "      <td>en</td>\n",
              "      <td>Casino</td>\n",
              "      <td>The life of the gambling paradise – Las Vegas ...</td>\n",
              "      <td>10.137389</td>\n",
              "      <td>/xo517ibXBDdYQY81j0WIG7BVcWq.jpg</td>\n",
              "      <td>[{'name': 'Universal Pictures', 'id': 33}, {'n...</td>\n",
              "      <td>[{'iso_3166_1': 'FR', 'name': 'France'}, {'iso...</td>\n",
              "      <td>1995-11-22</td>\n",
              "      <td>116112375.0</td>\n",
              "      <td>178.0</td>\n",
              "      <td>[{'iso_639_1': 'en', 'name': 'English'}]</td>\n",
              "      <td>Released</td>\n",
              "      <td>No one stays at the top forever.</td>\n",
              "      <td>Casino</td>\n",
              "      <td>False</td>\n",
              "      <td>7.8</td>\n",
              "      <td>1343.0</td>\n",
              "    </tr>\n",
              "    <tr>\n",
              "      <th>4</th>\n",
              "      <td>False</td>\n",
              "      <td>NaN</td>\n",
              "      <td>60000000</td>\n",
              "      <td>[{'id': 28, 'name': 'Action'}, {'id': 35, 'nam...</td>\n",
              "      <td>NaN</td>\n",
              "      <td>11517</td>\n",
              "      <td>tt0113845</td>\n",
              "      <td>en</td>\n",
              "      <td>Money Train</td>\n",
              "      <td>A vengeful New York transit cop decides to ste...</td>\n",
              "      <td>7.337906</td>\n",
              "      <td>/jSozzzVOR2kfXgTUuGnbgG2yRFi.jpg</td>\n",
              "      <td>[{'name': 'Columbia Pictures', 'id': 5}]</td>\n",
              "      <td>[{'iso_3166_1': 'US', 'name': 'United States o...</td>\n",
              "      <td>1995-11-21</td>\n",
              "      <td>35431113.0</td>\n",
              "      <td>103.0</td>\n",
              "      <td>[{'iso_639_1': 'en', 'name': 'English'}]</td>\n",
              "      <td>Released</td>\n",
              "      <td>Get on, or GET OUT THE WAY!</td>\n",
              "      <td>Money Train</td>\n",
              "      <td>False</td>\n",
              "      <td>5.4</td>\n",
              "      <td>224.0</td>\n",
              "    </tr>\n",
              "  </tbody>\n",
              "</table>\n",
              "</div>\n",
              "    <div class=\"colab-df-buttons\">\n",
              "\n",
              "  <div class=\"colab-df-container\">\n",
              "    <button class=\"colab-df-convert\" onclick=\"convertToInteractive('df-192b0e59-ee4c-41c2-ba16-e2f54dbfbad7')\"\n",
              "            title=\"Convert this dataframe to an interactive table.\"\n",
              "            style=\"display:none;\">\n",
              "\n",
              "  <svg xmlns=\"http://www.w3.org/2000/svg\" height=\"24px\" viewBox=\"0 -960 960 960\">\n",
              "    <path d=\"M120-120v-720h720v720H120Zm60-500h600v-160H180v160Zm220 220h160v-160H400v160Zm0 220h160v-160H400v160ZM180-400h160v-160H180v160Zm440 0h160v-160H620v160ZM180-180h160v-160H180v160Zm440 0h160v-160H620v160Z\"/>\n",
              "  </svg>\n",
              "    </button>\n",
              "\n",
              "  <style>\n",
              "    .colab-df-container {\n",
              "      display:flex;\n",
              "      gap: 12px;\n",
              "    }\n",
              "\n",
              "    .colab-df-convert {\n",
              "      background-color: #E8F0FE;\n",
              "      border: none;\n",
              "      border-radius: 50%;\n",
              "      cursor: pointer;\n",
              "      display: none;\n",
              "      fill: #1967D2;\n",
              "      height: 32px;\n",
              "      padding: 0 0 0 0;\n",
              "      width: 32px;\n",
              "    }\n",
              "\n",
              "    .colab-df-convert:hover {\n",
              "      background-color: #E2EBFA;\n",
              "      box-shadow: 0px 1px 2px rgba(60, 64, 67, 0.3), 0px 1px 3px 1px rgba(60, 64, 67, 0.15);\n",
              "      fill: #174EA6;\n",
              "    }\n",
              "\n",
              "    .colab-df-buttons div {\n",
              "      margin-bottom: 4px;\n",
              "    }\n",
              "\n",
              "    [theme=dark] .colab-df-convert {\n",
              "      background-color: #3B4455;\n",
              "      fill: #D2E3FC;\n",
              "    }\n",
              "\n",
              "    [theme=dark] .colab-df-convert:hover {\n",
              "      background-color: #434B5C;\n",
              "      box-shadow: 0px 1px 3px 1px rgba(0, 0, 0, 0.15);\n",
              "      filter: drop-shadow(0px 1px 2px rgba(0, 0, 0, 0.3));\n",
              "      fill: #FFFFFF;\n",
              "    }\n",
              "  </style>\n",
              "\n",
              "    <script>\n",
              "      const buttonEl =\n",
              "        document.querySelector('#df-192b0e59-ee4c-41c2-ba16-e2f54dbfbad7 button.colab-df-convert');\n",
              "      buttonEl.style.display =\n",
              "        google.colab.kernel.accessAllowed ? 'block' : 'none';\n",
              "\n",
              "      async function convertToInteractive(key) {\n",
              "        const element = document.querySelector('#df-192b0e59-ee4c-41c2-ba16-e2f54dbfbad7');\n",
              "        const dataTable =\n",
              "          await google.colab.kernel.invokeFunction('convertToInteractive',\n",
              "                                                    [key], {});\n",
              "        if (!dataTable) return;\n",
              "\n",
              "        const docLinkHtml = 'Like what you see? Visit the ' +\n",
              "          '<a target=\"_blank\" href=https://colab.research.google.com/notebooks/data_table.ipynb>data table notebook</a>'\n",
              "          + ' to learn more about interactive tables.';\n",
              "        element.innerHTML = '';\n",
              "        dataTable['output_type'] = 'display_data';\n",
              "        await google.colab.output.renderOutput(dataTable, element);\n",
              "        const docLink = document.createElement('div');\n",
              "        docLink.innerHTML = docLinkHtml;\n",
              "        element.appendChild(docLink);\n",
              "      }\n",
              "    </script>\n",
              "  </div>\n",
              "\n",
              "\n",
              "<div id=\"df-5db55d14-6426-4755-98c8-94912a62b3a4\">\n",
              "  <button class=\"colab-df-quickchart\" onclick=\"quickchart('df-5db55d14-6426-4755-98c8-94912a62b3a4')\"\n",
              "            title=\"Suggest charts\"\n",
              "            style=\"display:none;\">\n",
              "\n",
              "<svg xmlns=\"http://www.w3.org/2000/svg\" height=\"24px\"viewBox=\"0 0 24 24\"\n",
              "     width=\"24px\">\n",
              "    <g>\n",
              "        <path d=\"M19 3H5c-1.1 0-2 .9-2 2v14c0 1.1.9 2 2 2h14c1.1 0 2-.9 2-2V5c0-1.1-.9-2-2-2zM9 17H7v-7h2v7zm4 0h-2V7h2v10zm4 0h-2v-4h2v4z\"/>\n",
              "    </g>\n",
              "</svg>\n",
              "  </button>\n",
              "\n",
              "<style>\n",
              "  .colab-df-quickchart {\n",
              "      --bg-color: #E8F0FE;\n",
              "      --fill-color: #1967D2;\n",
              "      --hover-bg-color: #E2EBFA;\n",
              "      --hover-fill-color: #174EA6;\n",
              "      --disabled-fill-color: #AAA;\n",
              "      --disabled-bg-color: #DDD;\n",
              "  }\n",
              "\n",
              "  [theme=dark] .colab-df-quickchart {\n",
              "      --bg-color: #3B4455;\n",
              "      --fill-color: #D2E3FC;\n",
              "      --hover-bg-color: #434B5C;\n",
              "      --hover-fill-color: #FFFFFF;\n",
              "      --disabled-bg-color: #3B4455;\n",
              "      --disabled-fill-color: #666;\n",
              "  }\n",
              "\n",
              "  .colab-df-quickchart {\n",
              "    background-color: var(--bg-color);\n",
              "    border: none;\n",
              "    border-radius: 50%;\n",
              "    cursor: pointer;\n",
              "    display: none;\n",
              "    fill: var(--fill-color);\n",
              "    height: 32px;\n",
              "    padding: 0;\n",
              "    width: 32px;\n",
              "  }\n",
              "\n",
              "  .colab-df-quickchart:hover {\n",
              "    background-color: var(--hover-bg-color);\n",
              "    box-shadow: 0 1px 2px rgba(60, 64, 67, 0.3), 0 1px 3px 1px rgba(60, 64, 67, 0.15);\n",
              "    fill: var(--button-hover-fill-color);\n",
              "  }\n",
              "\n",
              "  .colab-df-quickchart-complete:disabled,\n",
              "  .colab-df-quickchart-complete:disabled:hover {\n",
              "    background-color: var(--disabled-bg-color);\n",
              "    fill: var(--disabled-fill-color);\n",
              "    box-shadow: none;\n",
              "  }\n",
              "\n",
              "  .colab-df-spinner {\n",
              "    border: 2px solid var(--fill-color);\n",
              "    border-color: transparent;\n",
              "    border-bottom-color: var(--fill-color);\n",
              "    animation:\n",
              "      spin 1s steps(1) infinite;\n",
              "  }\n",
              "\n",
              "  @keyframes spin {\n",
              "    0% {\n",
              "      border-color: transparent;\n",
              "      border-bottom-color: var(--fill-color);\n",
              "      border-left-color: var(--fill-color);\n",
              "    }\n",
              "    20% {\n",
              "      border-color: transparent;\n",
              "      border-left-color: var(--fill-color);\n",
              "      border-top-color: var(--fill-color);\n",
              "    }\n",
              "    30% {\n",
              "      border-color: transparent;\n",
              "      border-left-color: var(--fill-color);\n",
              "      border-top-color: var(--fill-color);\n",
              "      border-right-color: var(--fill-color);\n",
              "    }\n",
              "    40% {\n",
              "      border-color: transparent;\n",
              "      border-right-color: var(--fill-color);\n",
              "      border-top-color: var(--fill-color);\n",
              "    }\n",
              "    60% {\n",
              "      border-color: transparent;\n",
              "      border-right-color: var(--fill-color);\n",
              "    }\n",
              "    80% {\n",
              "      border-color: transparent;\n",
              "      border-right-color: var(--fill-color);\n",
              "      border-bottom-color: var(--fill-color);\n",
              "    }\n",
              "    90% {\n",
              "      border-color: transparent;\n",
              "      border-bottom-color: var(--fill-color);\n",
              "    }\n",
              "  }\n",
              "</style>\n",
              "\n",
              "  <script>\n",
              "    async function quickchart(key) {\n",
              "      const quickchartButtonEl =\n",
              "        document.querySelector('#' + key + ' button');\n",
              "      quickchartButtonEl.disabled = true;  // To prevent multiple clicks.\n",
              "      quickchartButtonEl.classList.add('colab-df-spinner');\n",
              "      try {\n",
              "        const charts = await google.colab.kernel.invokeFunction(\n",
              "            'suggestCharts', [key], {});\n",
              "      } catch (error) {\n",
              "        console.error('Error during call to suggestCharts:', error);\n",
              "      }\n",
              "      quickchartButtonEl.classList.remove('colab-df-spinner');\n",
              "      quickchartButtonEl.classList.add('colab-df-quickchart-complete');\n",
              "    }\n",
              "    (() => {\n",
              "      let quickchartButtonEl =\n",
              "        document.querySelector('#df-5db55d14-6426-4755-98c8-94912a62b3a4 button');\n",
              "      quickchartButtonEl.style.display =\n",
              "        google.colab.kernel.accessAllowed ? 'block' : 'none';\n",
              "    })();\n",
              "  </script>\n",
              "</div>\n",
              "\n",
              "    </div>\n",
              "  </div>\n"
            ],
            "application/vnd.google.colaboratory.intrinsic+json": {
              "type": "dataframe",
              "variable_name": "df"
            }
          },
          "metadata": {},
          "execution_count": 116
        }
      ]
    },
    {
      "cell_type": "code",
      "source": [
        "df.shape"
      ],
      "metadata": {
        "colab": {
          "base_uri": "https://localhost:8080/"
        },
        "id": "4H7DIO_l1qZS",
        "outputId": "eaa7b1f5-7450-452a-f44d-f083d4f044dd"
      },
      "execution_count": null,
      "outputs": [
        {
          "output_type": "execute_result",
          "data": {
            "text/plain": [
              "(11366, 24)"
            ]
          },
          "metadata": {},
          "execution_count": 117
        }
      ]
    },
    {
      "cell_type": "code",
      "source": [
        "print(df.isnull().sum())"
      ],
      "metadata": {
        "colab": {
          "base_uri": "https://localhost:8080/"
        },
        "id": "OcVgLwxC-hlw",
        "outputId": "4475e733-5c85-4814-817b-bf6d3f04360f"
      },
      "execution_count": null,
      "outputs": [
        {
          "output_type": "stream",
          "name": "stdout",
          "text": [
            "adult                        0\n",
            "belongs_to_collection    10258\n",
            "budget                       0\n",
            "genres                       0\n",
            "homepage                  9382\n",
            "id                           0\n",
            "imdb_id                      3\n",
            "original_language            3\n",
            "original_title               0\n",
            "overview                   238\n",
            "popularity                   1\n",
            "poster_path                 88\n",
            "production_companies         0\n",
            "production_countries         0\n",
            "release_date                20\n",
            "revenue                      2\n",
            "runtime                     68\n",
            "spoken_languages             2\n",
            "status                      21\n",
            "tagline                   6241\n",
            "title                        2\n",
            "video                        2\n",
            "vote_average                 2\n",
            "vote_count                   2\n",
            "dtype: int64\n"
          ]
        }
      ]
    },
    {
      "cell_type": "code",
      "source": [
        "df.isnull().sum()"
      ],
      "metadata": {
        "colab": {
          "base_uri": "https://localhost:8080/"
        },
        "id": "R1tzOaJg_Kjl",
        "outputId": "ced4257d-4946-4852-c3ad-ace960e2e05d"
      },
      "execution_count": null,
      "outputs": [
        {
          "output_type": "execute_result",
          "data": {
            "text/plain": [
              "adult                        0\n",
              "belongs_to_collection    10258\n",
              "budget                       0\n",
              "genres                       0\n",
              "homepage                  9382\n",
              "id                           0\n",
              "imdb_id                      3\n",
              "original_language            3\n",
              "original_title               0\n",
              "overview                   238\n",
              "popularity                   1\n",
              "poster_path                 88\n",
              "production_companies         0\n",
              "production_countries         0\n",
              "release_date                20\n",
              "revenue                      2\n",
              "runtime                     68\n",
              "spoken_languages             2\n",
              "status                      21\n",
              "tagline                   6241\n",
              "title                        2\n",
              "video                        2\n",
              "vote_average                 2\n",
              "vote_count                   2\n",
              "dtype: int64"
            ]
          },
          "metadata": {},
          "execution_count": 119
        }
      ]
    },
    {
      "cell_type": "code",
      "source": [
        "M = 2500\n",
        "C = df['vote_average'].mean()\n",
        "\n",
        "def weighted_rating(r, v, M, C):\n",
        "    return (v / (v + M) * r) + (M / (v + M) * C)\n",
        "\n",
        "df[\"weighted_rating\"] = weighted_rating(df[\"vote_average\"],\n",
        "                                            df[\"vote_count\"], M, C)\n",
        "\n",
        "df.sort_values(\"weighted_rating\", ascending=False).head(10)"
      ],
      "metadata": {
        "colab": {
          "base_uri": "https://localhost:8080/",
          "height": 1000
        },
        "id": "0Tkpnkcl1sml",
        "outputId": "83f37155-4f21-41b5-91e8-5ab4ddb1dd68"
      },
      "execution_count": null,
      "outputs": [
        {
          "output_type": "execute_result",
          "data": {
            "text/plain": [
              "      adult                              belongs_to_collection     budget                                             genres                                    homepage      id    imdb_id original_language                                     original_title                                           overview  popularity                       poster_path                               production_companies                               production_countries release_date      revenue  runtime                                   spoken_languages    status                                            tagline                                              title  video  vote_average  vote_count  weighted_rating\n",
              "710   False                                                NaN   63000000                      [{'id': 18, 'name': 'Drama'}]  http://www.foxmovies.com/movies/fight-club     550  tt0137523                en                                         Fight Club  A ticking-time-bomb insomniac and a slippery s...   63.869599  /adw6Lq9FiC9zjYEpOqfq03ituwp.jpg  [{'name': 'Twentieth Century Fox Film Corporat...  [{'iso_3166_1': 'DE', 'name': 'Germany'}, {'is...   1999-10-15  100853753.0    139.0           [{'iso_639_1': 'en', 'name': 'English'}]  Released                            Mischief. Mayhem. Soap.                                         Fight Club  False           8.3      9678.0         7.746323\n",
              "5719  False                                                NaN  165000000  [{'id': 12, 'name': 'Adventure'}, {'id': 18, '...           http://www.interstellarmovie.net/  157336  tt0816692                en                                       Interstellar  Interstellar chronicles the adventures of a gr...   32.213481  /nBNZadXqJSdt05SHLqgT0HuC5Gm.jpg  [{'name': 'Paramount Pictures', 'id': 4}, {'na...  [{'iso_3166_1': 'CA', 'name': 'Canada'}, {'iso...   2014-11-05  675120017.0    169.0           [{'iso_639_1': 'en', 'name': 'English'}]  Released  Mankind was born on Earth. It was never meant ...                                       Interstellar  False           8.1     11187.0         7.643898\n",
              "87    False                                                NaN   55000000  [{'id': 35, 'name': 'Comedy'}, {'id': 18, 'nam...                                         NaN      13  tt0109830                en                                       Forrest Gump  A man with a low IQ has accomplished great thi...   48.307194  /yE5d3BUhE8hCnkMUJOo1QDoOGNz.jpg          [{'name': 'Paramount Pictures', 'id': 4}]  [{'iso_3166_1': 'US', 'name': 'United States o...   1994-07-06  677945399.0    142.0           [{'iso_639_1': 'en', 'name': 'English'}]  Released  The world will never be the same, once you've ...                                       Forrest Gump  False           8.2      8147.0         7.590187\n",
              "1215  False  {'id': 119, 'name': 'The Lord of the Rings Col...   93000000  [{'id': 12, 'name': 'Adventure'}, {'id': 14, '...              http://www.lordoftherings.net/     120  tt0120737                en  The Lord of the Rings: The Fellowship of the Ring  Young hobbit Frodo Baggins, after inheriting a...   32.070725  /bxVxZb5O9OxCO0oRUNdCnpy9NST.jpg  [{'name': 'WingNut Films', 'id': 11}, {'name':...  [{'iso_3166_1': 'NZ', 'name': 'New Zealand'}, ...   2001-12-18  871368364.0    178.0           [{'iso_639_1': 'en', 'name': 'English'}]  Released                          One ring to rule them all  The Lord of the Rings: The Fellowship of the Ring  False           8.0      8892.0         7.473958\n",
              "5012  False                                                NaN  100000000  [{'id': 18, 'name': 'Drama'}, {'id': 37, 'name...                  http://unchainedmovie.com/   68718  tt1853728                en                                   Django Unchained  With the help of a German bounty hunter, a fre...   19.785025  /5WJnxuw41sddupf8cwOxYftuvJG.jpg  [{'name': 'Columbia Pictures', 'id': 5}, {'nam...  [{'iso_3166_1': 'US', 'name': 'United States o...   2012-12-25  425368238.0    165.0  [{'iso_639_1': 'en', 'name': 'English'}, {'iso...  Released        Life, liberty and the pursuit of vengeance.                                   Django Unchained  False           7.8     10297.0         7.370784\n",
              "5532  False                                                NaN  100000000  [{'id': 80, 'name': 'Crime'}, {'id': 18, 'name...         http://www.thewolfofwallstreet.com/  106646  tt0993846                en                            The Wolf of Wall Street  A New York stockbroker refuses to cooperate in...   16.382422  /vK1o5rZGqxyovfIhZyMELhk03wO.jpg  [{'name': 'Paramount Pictures', 'id': 4}, {'na...  [{'iso_3166_1': 'US', 'name': 'United States o...   2013-12-25  392000694.0    180.0  [{'iso_639_1': 'fr', 'name': 'Français'}, {'is...  Released                                EARN. SPEND. PARTY.                            The Wolf of Wall Street  False           7.9      6768.0         7.280376\n",
              "7578  False                                                NaN  175000000  [{'id': 18, 'name': 'Drama'}, {'id': 35, 'name...         http://movies.disney.com/inside-out  150540  tt2096673                en                                         Inside Out  Growing up can be a bumpy road, and it's no ex...   23.985587  /aAmfIX3TT40zUHGcCKrlOZRKC7u.jpg  [{'name': 'Walt Disney Pictures', 'id': 2}, {'...  [{'iso_3166_1': 'US', 'name': 'United States o...   2015-06-09  857611174.0     94.0           [{'iso_639_1': 'en', 'name': 'English'}]  Released           Meet the little voices inside your head.                                         Inside Out  False           7.9      6737.0         7.278297\n",
              "89    False  {'id': 94032, 'name': 'The Lion King Collectio...   45000000  [{'id': 10751, 'name': 'Family'}, {'id': 16, '...      http://movies.disney.com/the-lion-king    8587  tt0110357                en                                      The Lion King  A young lion cub named Simba can't wait to be ...   21.605761  /bKPtXn9n4M4s8vvZrbw40mYsefB.jpg  [{'name': 'Walt Disney Pictures', 'id': 2}, {'...  [{'iso_3166_1': 'US', 'name': 'United States o...   1994-06-23  788241776.0     89.0           [{'iso_639_1': 'en', 'name': 'English'}]  Released  Life's greatest adventure is finding your plac...                                      The Lion King  False           8.0      5520.0         7.252784\n",
              "5918  False                                                NaN   61000000  [{'id': 9648, 'name': 'Mystery'}, {'id': 53, '...               http://www.gonegirlmovie.com/  210577  tt2267998                en                                          Gone Girl  With his wife's disappearance having become th...  154.801009  /gdiLTof3rbPDAmPaCf4g6op46bj.jpg  [{'name': 'Twentieth Century Fox Film Corporat...  [{'iso_3166_1': 'US', 'name': 'United States o...   2014-10-01  369330363.0    145.0           [{'iso_639_1': 'en', 'name': 'English'}]  Released        You don't know what you've got 'til it's...                                          Gone Girl  False           7.9      6023.0         7.226214\n",
              "552   False                                                NaN   20000000  [{'id': 35, 'name': 'Comedy'}, {'id': 18, 'nam...                                         NaN     637  tt0118799                it                                    La vita è bella  A touching story of an Italian book seller of ...    39.39497  /f7DImXDebOs148U4uPjI61iDvaK.jpg  [{'name': 'Miramax Films', 'id': 14}, {'name':...            [{'iso_3166_1': 'IT', 'name': 'Italy'}]   1997-12-20  229400000.0    116.0  [{'iso_639_1': 'en', 'name': 'English'}, {'iso...  Released  An unforgettable fable that proves love, famil...                                  Life Is Beautiful  False           8.3      3643.0         7.202381"
            ],
            "text/html": [
              "\n",
              "  <div id=\"df-72269b6e-835c-4725-9026-6709f25d6244\" class=\"colab-df-container\">\n",
              "    <div>\n",
              "<style scoped>\n",
              "    .dataframe tbody tr th:only-of-type {\n",
              "        vertical-align: middle;\n",
              "    }\n",
              "\n",
              "    .dataframe tbody tr th {\n",
              "        vertical-align: top;\n",
              "    }\n",
              "\n",
              "    .dataframe thead th {\n",
              "        text-align: right;\n",
              "    }\n",
              "</style>\n",
              "<table border=\"1\" class=\"dataframe\">\n",
              "  <thead>\n",
              "    <tr style=\"text-align: right;\">\n",
              "      <th></th>\n",
              "      <th>adult</th>\n",
              "      <th>belongs_to_collection</th>\n",
              "      <th>budget</th>\n",
              "      <th>genres</th>\n",
              "      <th>homepage</th>\n",
              "      <th>id</th>\n",
              "      <th>imdb_id</th>\n",
              "      <th>original_language</th>\n",
              "      <th>original_title</th>\n",
              "      <th>overview</th>\n",
              "      <th>popularity</th>\n",
              "      <th>poster_path</th>\n",
              "      <th>production_companies</th>\n",
              "      <th>production_countries</th>\n",
              "      <th>release_date</th>\n",
              "      <th>revenue</th>\n",
              "      <th>runtime</th>\n",
              "      <th>spoken_languages</th>\n",
              "      <th>status</th>\n",
              "      <th>tagline</th>\n",
              "      <th>title</th>\n",
              "      <th>video</th>\n",
              "      <th>vote_average</th>\n",
              "      <th>vote_count</th>\n",
              "      <th>weighted_rating</th>\n",
              "    </tr>\n",
              "  </thead>\n",
              "  <tbody>\n",
              "    <tr>\n",
              "      <th>710</th>\n",
              "      <td>False</td>\n",
              "      <td>NaN</td>\n",
              "      <td>63000000</td>\n",
              "      <td>[{'id': 18, 'name': 'Drama'}]</td>\n",
              "      <td>http://www.foxmovies.com/movies/fight-club</td>\n",
              "      <td>550</td>\n",
              "      <td>tt0137523</td>\n",
              "      <td>en</td>\n",
              "      <td>Fight Club</td>\n",
              "      <td>A ticking-time-bomb insomniac and a slippery s...</td>\n",
              "      <td>63.869599</td>\n",
              "      <td>/adw6Lq9FiC9zjYEpOqfq03ituwp.jpg</td>\n",
              "      <td>[{'name': 'Twentieth Century Fox Film Corporat...</td>\n",
              "      <td>[{'iso_3166_1': 'DE', 'name': 'Germany'}, {'is...</td>\n",
              "      <td>1999-10-15</td>\n",
              "      <td>100853753.0</td>\n",
              "      <td>139.0</td>\n",
              "      <td>[{'iso_639_1': 'en', 'name': 'English'}]</td>\n",
              "      <td>Released</td>\n",
              "      <td>Mischief. Mayhem. Soap.</td>\n",
              "      <td>Fight Club</td>\n",
              "      <td>False</td>\n",
              "      <td>8.3</td>\n",
              "      <td>9678.0</td>\n",
              "      <td>7.746323</td>\n",
              "    </tr>\n",
              "    <tr>\n",
              "      <th>5719</th>\n",
              "      <td>False</td>\n",
              "      <td>NaN</td>\n",
              "      <td>165000000</td>\n",
              "      <td>[{'id': 12, 'name': 'Adventure'}, {'id': 18, '...</td>\n",
              "      <td>http://www.interstellarmovie.net/</td>\n",
              "      <td>157336</td>\n",
              "      <td>tt0816692</td>\n",
              "      <td>en</td>\n",
              "      <td>Interstellar</td>\n",
              "      <td>Interstellar chronicles the adventures of a gr...</td>\n",
              "      <td>32.213481</td>\n",
              "      <td>/nBNZadXqJSdt05SHLqgT0HuC5Gm.jpg</td>\n",
              "      <td>[{'name': 'Paramount Pictures', 'id': 4}, {'na...</td>\n",
              "      <td>[{'iso_3166_1': 'CA', 'name': 'Canada'}, {'iso...</td>\n",
              "      <td>2014-11-05</td>\n",
              "      <td>675120017.0</td>\n",
              "      <td>169.0</td>\n",
              "      <td>[{'iso_639_1': 'en', 'name': 'English'}]</td>\n",
              "      <td>Released</td>\n",
              "      <td>Mankind was born on Earth. It was never meant ...</td>\n",
              "      <td>Interstellar</td>\n",
              "      <td>False</td>\n",
              "      <td>8.1</td>\n",
              "      <td>11187.0</td>\n",
              "      <td>7.643898</td>\n",
              "    </tr>\n",
              "    <tr>\n",
              "      <th>87</th>\n",
              "      <td>False</td>\n",
              "      <td>NaN</td>\n",
              "      <td>55000000</td>\n",
              "      <td>[{'id': 35, 'name': 'Comedy'}, {'id': 18, 'nam...</td>\n",
              "      <td>NaN</td>\n",
              "      <td>13</td>\n",
              "      <td>tt0109830</td>\n",
              "      <td>en</td>\n",
              "      <td>Forrest Gump</td>\n",
              "      <td>A man with a low IQ has accomplished great thi...</td>\n",
              "      <td>48.307194</td>\n",
              "      <td>/yE5d3BUhE8hCnkMUJOo1QDoOGNz.jpg</td>\n",
              "      <td>[{'name': 'Paramount Pictures', 'id': 4}]</td>\n",
              "      <td>[{'iso_3166_1': 'US', 'name': 'United States o...</td>\n",
              "      <td>1994-07-06</td>\n",
              "      <td>677945399.0</td>\n",
              "      <td>142.0</td>\n",
              "      <td>[{'iso_639_1': 'en', 'name': 'English'}]</td>\n",
              "      <td>Released</td>\n",
              "      <td>The world will never be the same, once you've ...</td>\n",
              "      <td>Forrest Gump</td>\n",
              "      <td>False</td>\n",
              "      <td>8.2</td>\n",
              "      <td>8147.0</td>\n",
              "      <td>7.590187</td>\n",
              "    </tr>\n",
              "    <tr>\n",
              "      <th>1215</th>\n",
              "      <td>False</td>\n",
              "      <td>{'id': 119, 'name': 'The Lord of the Rings Col...</td>\n",
              "      <td>93000000</td>\n",
              "      <td>[{'id': 12, 'name': 'Adventure'}, {'id': 14, '...</td>\n",
              "      <td>http://www.lordoftherings.net/</td>\n",
              "      <td>120</td>\n",
              "      <td>tt0120737</td>\n",
              "      <td>en</td>\n",
              "      <td>The Lord of the Rings: The Fellowship of the Ring</td>\n",
              "      <td>Young hobbit Frodo Baggins, after inheriting a...</td>\n",
              "      <td>32.070725</td>\n",
              "      <td>/bxVxZb5O9OxCO0oRUNdCnpy9NST.jpg</td>\n",
              "      <td>[{'name': 'WingNut Films', 'id': 11}, {'name':...</td>\n",
              "      <td>[{'iso_3166_1': 'NZ', 'name': 'New Zealand'}, ...</td>\n",
              "      <td>2001-12-18</td>\n",
              "      <td>871368364.0</td>\n",
              "      <td>178.0</td>\n",
              "      <td>[{'iso_639_1': 'en', 'name': 'English'}]</td>\n",
              "      <td>Released</td>\n",
              "      <td>One ring to rule them all</td>\n",
              "      <td>The Lord of the Rings: The Fellowship of the Ring</td>\n",
              "      <td>False</td>\n",
              "      <td>8.0</td>\n",
              "      <td>8892.0</td>\n",
              "      <td>7.473958</td>\n",
              "    </tr>\n",
              "    <tr>\n",
              "      <th>5012</th>\n",
              "      <td>False</td>\n",
              "      <td>NaN</td>\n",
              "      <td>100000000</td>\n",
              "      <td>[{'id': 18, 'name': 'Drama'}, {'id': 37, 'name...</td>\n",
              "      <td>http://unchainedmovie.com/</td>\n",
              "      <td>68718</td>\n",
              "      <td>tt1853728</td>\n",
              "      <td>en</td>\n",
              "      <td>Django Unchained</td>\n",
              "      <td>With the help of a German bounty hunter, a fre...</td>\n",
              "      <td>19.785025</td>\n",
              "      <td>/5WJnxuw41sddupf8cwOxYftuvJG.jpg</td>\n",
              "      <td>[{'name': 'Columbia Pictures', 'id': 5}, {'nam...</td>\n",
              "      <td>[{'iso_3166_1': 'US', 'name': 'United States o...</td>\n",
              "      <td>2012-12-25</td>\n",
              "      <td>425368238.0</td>\n",
              "      <td>165.0</td>\n",
              "      <td>[{'iso_639_1': 'en', 'name': 'English'}, {'iso...</td>\n",
              "      <td>Released</td>\n",
              "      <td>Life, liberty and the pursuit of vengeance.</td>\n",
              "      <td>Django Unchained</td>\n",
              "      <td>False</td>\n",
              "      <td>7.8</td>\n",
              "      <td>10297.0</td>\n",
              "      <td>7.370784</td>\n",
              "    </tr>\n",
              "    <tr>\n",
              "      <th>5532</th>\n",
              "      <td>False</td>\n",
              "      <td>NaN</td>\n",
              "      <td>100000000</td>\n",
              "      <td>[{'id': 80, 'name': 'Crime'}, {'id': 18, 'name...</td>\n",
              "      <td>http://www.thewolfofwallstreet.com/</td>\n",
              "      <td>106646</td>\n",
              "      <td>tt0993846</td>\n",
              "      <td>en</td>\n",
              "      <td>The Wolf of Wall Street</td>\n",
              "      <td>A New York stockbroker refuses to cooperate in...</td>\n",
              "      <td>16.382422</td>\n",
              "      <td>/vK1o5rZGqxyovfIhZyMELhk03wO.jpg</td>\n",
              "      <td>[{'name': 'Paramount Pictures', 'id': 4}, {'na...</td>\n",
              "      <td>[{'iso_3166_1': 'US', 'name': 'United States o...</td>\n",
              "      <td>2013-12-25</td>\n",
              "      <td>392000694.0</td>\n",
              "      <td>180.0</td>\n",
              "      <td>[{'iso_639_1': 'fr', 'name': 'Français'}, {'is...</td>\n",
              "      <td>Released</td>\n",
              "      <td>EARN. SPEND. PARTY.</td>\n",
              "      <td>The Wolf of Wall Street</td>\n",
              "      <td>False</td>\n",
              "      <td>7.9</td>\n",
              "      <td>6768.0</td>\n",
              "      <td>7.280376</td>\n",
              "    </tr>\n",
              "    <tr>\n",
              "      <th>7578</th>\n",
              "      <td>False</td>\n",
              "      <td>NaN</td>\n",
              "      <td>175000000</td>\n",
              "      <td>[{'id': 18, 'name': 'Drama'}, {'id': 35, 'name...</td>\n",
              "      <td>http://movies.disney.com/inside-out</td>\n",
              "      <td>150540</td>\n",
              "      <td>tt2096673</td>\n",
              "      <td>en</td>\n",
              "      <td>Inside Out</td>\n",
              "      <td>Growing up can be a bumpy road, and it's no ex...</td>\n",
              "      <td>23.985587</td>\n",
              "      <td>/aAmfIX3TT40zUHGcCKrlOZRKC7u.jpg</td>\n",
              "      <td>[{'name': 'Walt Disney Pictures', 'id': 2}, {'...</td>\n",
              "      <td>[{'iso_3166_1': 'US', 'name': 'United States o...</td>\n",
              "      <td>2015-06-09</td>\n",
              "      <td>857611174.0</td>\n",
              "      <td>94.0</td>\n",
              "      <td>[{'iso_639_1': 'en', 'name': 'English'}]</td>\n",
              "      <td>Released</td>\n",
              "      <td>Meet the little voices inside your head.</td>\n",
              "      <td>Inside Out</td>\n",
              "      <td>False</td>\n",
              "      <td>7.9</td>\n",
              "      <td>6737.0</td>\n",
              "      <td>7.278297</td>\n",
              "    </tr>\n",
              "    <tr>\n",
              "      <th>89</th>\n",
              "      <td>False</td>\n",
              "      <td>{'id': 94032, 'name': 'The Lion King Collectio...</td>\n",
              "      <td>45000000</td>\n",
              "      <td>[{'id': 10751, 'name': 'Family'}, {'id': 16, '...</td>\n",
              "      <td>http://movies.disney.com/the-lion-king</td>\n",
              "      <td>8587</td>\n",
              "      <td>tt0110357</td>\n",
              "      <td>en</td>\n",
              "      <td>The Lion King</td>\n",
              "      <td>A young lion cub named Simba can't wait to be ...</td>\n",
              "      <td>21.605761</td>\n",
              "      <td>/bKPtXn9n4M4s8vvZrbw40mYsefB.jpg</td>\n",
              "      <td>[{'name': 'Walt Disney Pictures', 'id': 2}, {'...</td>\n",
              "      <td>[{'iso_3166_1': 'US', 'name': 'United States o...</td>\n",
              "      <td>1994-06-23</td>\n",
              "      <td>788241776.0</td>\n",
              "      <td>89.0</td>\n",
              "      <td>[{'iso_639_1': 'en', 'name': 'English'}]</td>\n",
              "      <td>Released</td>\n",
              "      <td>Life's greatest adventure is finding your plac...</td>\n",
              "      <td>The Lion King</td>\n",
              "      <td>False</td>\n",
              "      <td>8.0</td>\n",
              "      <td>5520.0</td>\n",
              "      <td>7.252784</td>\n",
              "    </tr>\n",
              "    <tr>\n",
              "      <th>5918</th>\n",
              "      <td>False</td>\n",
              "      <td>NaN</td>\n",
              "      <td>61000000</td>\n",
              "      <td>[{'id': 9648, 'name': 'Mystery'}, {'id': 53, '...</td>\n",
              "      <td>http://www.gonegirlmovie.com/</td>\n",
              "      <td>210577</td>\n",
              "      <td>tt2267998</td>\n",
              "      <td>en</td>\n",
              "      <td>Gone Girl</td>\n",
              "      <td>With his wife's disappearance having become th...</td>\n",
              "      <td>154.801009</td>\n",
              "      <td>/gdiLTof3rbPDAmPaCf4g6op46bj.jpg</td>\n",
              "      <td>[{'name': 'Twentieth Century Fox Film Corporat...</td>\n",
              "      <td>[{'iso_3166_1': 'US', 'name': 'United States o...</td>\n",
              "      <td>2014-10-01</td>\n",
              "      <td>369330363.0</td>\n",
              "      <td>145.0</td>\n",
              "      <td>[{'iso_639_1': 'en', 'name': 'English'}]</td>\n",
              "      <td>Released</td>\n",
              "      <td>You don't know what you've got 'til it's...</td>\n",
              "      <td>Gone Girl</td>\n",
              "      <td>False</td>\n",
              "      <td>7.9</td>\n",
              "      <td>6023.0</td>\n",
              "      <td>7.226214</td>\n",
              "    </tr>\n",
              "    <tr>\n",
              "      <th>552</th>\n",
              "      <td>False</td>\n",
              "      <td>NaN</td>\n",
              "      <td>20000000</td>\n",
              "      <td>[{'id': 35, 'name': 'Comedy'}, {'id': 18, 'nam...</td>\n",
              "      <td>NaN</td>\n",
              "      <td>637</td>\n",
              "      <td>tt0118799</td>\n",
              "      <td>it</td>\n",
              "      <td>La vita è bella</td>\n",
              "      <td>A touching story of an Italian book seller of ...</td>\n",
              "      <td>39.39497</td>\n",
              "      <td>/f7DImXDebOs148U4uPjI61iDvaK.jpg</td>\n",
              "      <td>[{'name': 'Miramax Films', 'id': 14}, {'name':...</td>\n",
              "      <td>[{'iso_3166_1': 'IT', 'name': 'Italy'}]</td>\n",
              "      <td>1997-12-20</td>\n",
              "      <td>229400000.0</td>\n",
              "      <td>116.0</td>\n",
              "      <td>[{'iso_639_1': 'en', 'name': 'English'}, {'iso...</td>\n",
              "      <td>Released</td>\n",
              "      <td>An unforgettable fable that proves love, famil...</td>\n",
              "      <td>Life Is Beautiful</td>\n",
              "      <td>False</td>\n",
              "      <td>8.3</td>\n",
              "      <td>3643.0</td>\n",
              "      <td>7.202381</td>\n",
              "    </tr>\n",
              "  </tbody>\n",
              "</table>\n",
              "</div>\n",
              "    <div class=\"colab-df-buttons\">\n",
              "\n",
              "  <div class=\"colab-df-container\">\n",
              "    <button class=\"colab-df-convert\" onclick=\"convertToInteractive('df-72269b6e-835c-4725-9026-6709f25d6244')\"\n",
              "            title=\"Convert this dataframe to an interactive table.\"\n",
              "            style=\"display:none;\">\n",
              "\n",
              "  <svg xmlns=\"http://www.w3.org/2000/svg\" height=\"24px\" viewBox=\"0 -960 960 960\">\n",
              "    <path d=\"M120-120v-720h720v720H120Zm60-500h600v-160H180v160Zm220 220h160v-160H400v160Zm0 220h160v-160H400v160ZM180-400h160v-160H180v160Zm440 0h160v-160H620v160ZM180-180h160v-160H180v160Zm440 0h160v-160H620v160Z\"/>\n",
              "  </svg>\n",
              "    </button>\n",
              "\n",
              "  <style>\n",
              "    .colab-df-container {\n",
              "      display:flex;\n",
              "      gap: 12px;\n",
              "    }\n",
              "\n",
              "    .colab-df-convert {\n",
              "      background-color: #E8F0FE;\n",
              "      border: none;\n",
              "      border-radius: 50%;\n",
              "      cursor: pointer;\n",
              "      display: none;\n",
              "      fill: #1967D2;\n",
              "      height: 32px;\n",
              "      padding: 0 0 0 0;\n",
              "      width: 32px;\n",
              "    }\n",
              "\n",
              "    .colab-df-convert:hover {\n",
              "      background-color: #E2EBFA;\n",
              "      box-shadow: 0px 1px 2px rgba(60, 64, 67, 0.3), 0px 1px 3px 1px rgba(60, 64, 67, 0.15);\n",
              "      fill: #174EA6;\n",
              "    }\n",
              "\n",
              "    .colab-df-buttons div {\n",
              "      margin-bottom: 4px;\n",
              "    }\n",
              "\n",
              "    [theme=dark] .colab-df-convert {\n",
              "      background-color: #3B4455;\n",
              "      fill: #D2E3FC;\n",
              "    }\n",
              "\n",
              "    [theme=dark] .colab-df-convert:hover {\n",
              "      background-color: #434B5C;\n",
              "      box-shadow: 0px 1px 3px 1px rgba(0, 0, 0, 0.15);\n",
              "      filter: drop-shadow(0px 1px 2px rgba(0, 0, 0, 0.3));\n",
              "      fill: #FFFFFF;\n",
              "    }\n",
              "  </style>\n",
              "\n",
              "    <script>\n",
              "      const buttonEl =\n",
              "        document.querySelector('#df-72269b6e-835c-4725-9026-6709f25d6244 button.colab-df-convert');\n",
              "      buttonEl.style.display =\n",
              "        google.colab.kernel.accessAllowed ? 'block' : 'none';\n",
              "\n",
              "      async function convertToInteractive(key) {\n",
              "        const element = document.querySelector('#df-72269b6e-835c-4725-9026-6709f25d6244');\n",
              "        const dataTable =\n",
              "          await google.colab.kernel.invokeFunction('convertToInteractive',\n",
              "                                                    [key], {});\n",
              "        if (!dataTable) return;\n",
              "\n",
              "        const docLinkHtml = 'Like what you see? Visit the ' +\n",
              "          '<a target=\"_blank\" href=https://colab.research.google.com/notebooks/data_table.ipynb>data table notebook</a>'\n",
              "          + ' to learn more about interactive tables.';\n",
              "        element.innerHTML = '';\n",
              "        dataTable['output_type'] = 'display_data';\n",
              "        await google.colab.output.renderOutput(dataTable, element);\n",
              "        const docLink = document.createElement('div');\n",
              "        docLink.innerHTML = docLinkHtml;\n",
              "        element.appendChild(docLink);\n",
              "      }\n",
              "    </script>\n",
              "  </div>\n",
              "\n",
              "\n",
              "<div id=\"df-cb697791-4af5-42b1-9963-5e8c06199fc4\">\n",
              "  <button class=\"colab-df-quickchart\" onclick=\"quickchart('df-cb697791-4af5-42b1-9963-5e8c06199fc4')\"\n",
              "            title=\"Suggest charts\"\n",
              "            style=\"display:none;\">\n",
              "\n",
              "<svg xmlns=\"http://www.w3.org/2000/svg\" height=\"24px\"viewBox=\"0 0 24 24\"\n",
              "     width=\"24px\">\n",
              "    <g>\n",
              "        <path d=\"M19 3H5c-1.1 0-2 .9-2 2v14c0 1.1.9 2 2 2h14c1.1 0 2-.9 2-2V5c0-1.1-.9-2-2-2zM9 17H7v-7h2v7zm4 0h-2V7h2v10zm4 0h-2v-4h2v4z\"/>\n",
              "    </g>\n",
              "</svg>\n",
              "  </button>\n",
              "\n",
              "<style>\n",
              "  .colab-df-quickchart {\n",
              "      --bg-color: #E8F0FE;\n",
              "      --fill-color: #1967D2;\n",
              "      --hover-bg-color: #E2EBFA;\n",
              "      --hover-fill-color: #174EA6;\n",
              "      --disabled-fill-color: #AAA;\n",
              "      --disabled-bg-color: #DDD;\n",
              "  }\n",
              "\n",
              "  [theme=dark] .colab-df-quickchart {\n",
              "      --bg-color: #3B4455;\n",
              "      --fill-color: #D2E3FC;\n",
              "      --hover-bg-color: #434B5C;\n",
              "      --hover-fill-color: #FFFFFF;\n",
              "      --disabled-bg-color: #3B4455;\n",
              "      --disabled-fill-color: #666;\n",
              "  }\n",
              "\n",
              "  .colab-df-quickchart {\n",
              "    background-color: var(--bg-color);\n",
              "    border: none;\n",
              "    border-radius: 50%;\n",
              "    cursor: pointer;\n",
              "    display: none;\n",
              "    fill: var(--fill-color);\n",
              "    height: 32px;\n",
              "    padding: 0;\n",
              "    width: 32px;\n",
              "  }\n",
              "\n",
              "  .colab-df-quickchart:hover {\n",
              "    background-color: var(--hover-bg-color);\n",
              "    box-shadow: 0 1px 2px rgba(60, 64, 67, 0.3), 0 1px 3px 1px rgba(60, 64, 67, 0.15);\n",
              "    fill: var(--button-hover-fill-color);\n",
              "  }\n",
              "\n",
              "  .colab-df-quickchart-complete:disabled,\n",
              "  .colab-df-quickchart-complete:disabled:hover {\n",
              "    background-color: var(--disabled-bg-color);\n",
              "    fill: var(--disabled-fill-color);\n",
              "    box-shadow: none;\n",
              "  }\n",
              "\n",
              "  .colab-df-spinner {\n",
              "    border: 2px solid var(--fill-color);\n",
              "    border-color: transparent;\n",
              "    border-bottom-color: var(--fill-color);\n",
              "    animation:\n",
              "      spin 1s steps(1) infinite;\n",
              "  }\n",
              "\n",
              "  @keyframes spin {\n",
              "    0% {\n",
              "      border-color: transparent;\n",
              "      border-bottom-color: var(--fill-color);\n",
              "      border-left-color: var(--fill-color);\n",
              "    }\n",
              "    20% {\n",
              "      border-color: transparent;\n",
              "      border-left-color: var(--fill-color);\n",
              "      border-top-color: var(--fill-color);\n",
              "    }\n",
              "    30% {\n",
              "      border-color: transparent;\n",
              "      border-left-color: var(--fill-color);\n",
              "      border-top-color: var(--fill-color);\n",
              "      border-right-color: var(--fill-color);\n",
              "    }\n",
              "    40% {\n",
              "      border-color: transparent;\n",
              "      border-right-color: var(--fill-color);\n",
              "      border-top-color: var(--fill-color);\n",
              "    }\n",
              "    60% {\n",
              "      border-color: transparent;\n",
              "      border-right-color: var(--fill-color);\n",
              "    }\n",
              "    80% {\n",
              "      border-color: transparent;\n",
              "      border-right-color: var(--fill-color);\n",
              "      border-bottom-color: var(--fill-color);\n",
              "    }\n",
              "    90% {\n",
              "      border-color: transparent;\n",
              "      border-bottom-color: var(--fill-color);\n",
              "    }\n",
              "  }\n",
              "</style>\n",
              "\n",
              "  <script>\n",
              "    async function quickchart(key) {\n",
              "      const quickchartButtonEl =\n",
              "        document.querySelector('#' + key + ' button');\n",
              "      quickchartButtonEl.disabled = true;  // To prevent multiple clicks.\n",
              "      quickchartButtonEl.classList.add('colab-df-spinner');\n",
              "      try {\n",
              "        const charts = await google.colab.kernel.invokeFunction(\n",
              "            'suggestCharts', [key], {});\n",
              "      } catch (error) {\n",
              "        console.error('Error during call to suggestCharts:', error);\n",
              "      }\n",
              "      quickchartButtonEl.classList.remove('colab-df-spinner');\n",
              "      quickchartButtonEl.classList.add('colab-df-quickchart-complete');\n",
              "    }\n",
              "    (() => {\n",
              "      let quickchartButtonEl =\n",
              "        document.querySelector('#df-cb697791-4af5-42b1-9963-5e8c06199fc4 button');\n",
              "      quickchartButtonEl.style.display =\n",
              "        google.colab.kernel.accessAllowed ? 'block' : 'none';\n",
              "    })();\n",
              "  </script>\n",
              "</div>\n",
              "\n",
              "    </div>\n",
              "  </div>\n"
            ],
            "application/vnd.google.colaboratory.intrinsic+json": {
              "type": "dataframe"
            }
          },
          "metadata": {},
          "execution_count": 120
        }
      ]
    },
    {
      "cell_type": "code",
      "source": [
        "df[\"overview\"].head()"
      ],
      "metadata": {
        "colab": {
          "base_uri": "https://localhost:8080/"
        },
        "id": "P5wu14WF1ujJ",
        "outputId": "3ec4b007-a3fd-4c19-a5c7-32daa4f32935"
      },
      "execution_count": null,
      "outputs": [
        {
          "output_type": "execute_result",
          "data": {
            "text/plain": [
              "0    Cheated on, mistreated and stepped on, the wom...\n",
              "1    A mischievous young boy, Tom Sawyer, witnesses...\n",
              "2    When a lawyer shows up at the vampire's doorst...\n",
              "3    The life of the gambling paradise – Las Vegas ...\n",
              "4    A vengeful New York transit cop decides to ste...\n",
              "Name: overview, dtype: object"
            ]
          },
          "metadata": {},
          "execution_count": 121
        }
      ]
    },
    {
      "cell_type": "code",
      "source": [
        "df = df[~df[\"title\"].duplicated(keep='last')]\n",
        "df = df[~df[\"title\"].isna()]\n",
        "df = df[~df[\"overview\"].isna()]"
      ],
      "metadata": {
        "id": "UeAf5KeS1wXp"
      },
      "execution_count": null,
      "outputs": []
    },
    {
      "cell_type": "code",
      "source": [
        "tfidf = TfidfVectorizer(stop_words=\"english\")\n"
      ],
      "metadata": {
        "id": "epLgDtgz1x4I"
      },
      "execution_count": null,
      "outputs": []
    },
    {
      "cell_type": "code",
      "source": [
        "tfidf_matrix = tfidf.fit_transform(df['overview'])\n"
      ],
      "metadata": {
        "id": "KRzGMBHB1zNu"
      },
      "execution_count": null,
      "outputs": []
    },
    {
      "cell_type": "code",
      "source": [
        "tfidf_matrix = tfidf_matrix.astype(np.float32)"
      ],
      "metadata": {
        "id": "MYjFhIhq12FD"
      },
      "execution_count": null,
      "outputs": []
    },
    {
      "cell_type": "code",
      "source": [
        "tfidf_matrix.shape\n"
      ],
      "metadata": {
        "colab": {
          "base_uri": "https://localhost:8080/"
        },
        "id": "8SwtUhX715Aq",
        "outputId": "d88c722d-31f7-4433-bf5a-a5127c67b71c"
      },
      "execution_count": null,
      "outputs": [
        {
          "output_type": "execute_result",
          "data": {
            "text/plain": [
              "(10882, 37304)"
            ]
          },
          "metadata": {},
          "execution_count": 126
        }
      ]
    },
    {
      "cell_type": "code",
      "source": [
        "tfidf_matrix"
      ],
      "metadata": {
        "colab": {
          "base_uri": "https://localhost:8080/"
        },
        "id": "6BjSQPhp17YR",
        "outputId": "041a3983-f6be-406e-e7fe-0ddfd0f21878"
      },
      "execution_count": null,
      "outputs": [
        {
          "output_type": "execute_result",
          "data": {
            "text/plain": [
              "<10882x37304 sparse matrix of type '<class 'numpy.float32'>'\n",
              "\twith 298586 stored elements in Compressed Sparse Row format>"
            ]
          },
          "metadata": {},
          "execution_count": 127
        }
      ]
    },
    {
      "cell_type": "code",
      "source": [
        "df['title'].shape"
      ],
      "metadata": {
        "colab": {
          "base_uri": "https://localhost:8080/"
        },
        "id": "kn3n2Aj919Fe",
        "outputId": "399d0349-3a28-42ea-d136-883d29052077"
      },
      "execution_count": null,
      "outputs": [
        {
          "output_type": "execute_result",
          "data": {
            "text/plain": [
              "(10882,)"
            ]
          },
          "metadata": {},
          "execution_count": 128
        }
      ]
    },
    {
      "cell_type": "code",
      "source": [
        "tfidf.get_feature_names_out()"
      ],
      "metadata": {
        "colab": {
          "base_uri": "https://localhost:8080/"
        },
        "id": "ZCuFAhlC1--1",
        "outputId": "7a6f95f0-461d-40c1-ff4e-fb6103843c7f"
      },
      "execution_count": null,
      "outputs": [
        {
          "output_type": "execute_result",
          "data": {
            "text/plain": [
              "array(['00', '000', '000th', ..., '찾기', '첫사랑', 'ﬁve'], dtype=object)"
            ]
          },
          "metadata": {},
          "execution_count": 129
        }
      ]
    },
    {
      "cell_type": "code",
      "source": [
        "cosine_sim = cosine_similarity(tfidf_matrix,\n",
        "                               tfidf_matrix)\n",
        "cosine_sim.shape\n"
      ],
      "metadata": {
        "colab": {
          "base_uri": "https://localhost:8080/"
        },
        "id": "89VcPYGP2BZQ",
        "outputId": "7b3bb2a5-cbf2-4b6a-80f0-e6040d31dd8c"
      },
      "execution_count": null,
      "outputs": [
        {
          "output_type": "execute_result",
          "data": {
            "text/plain": [
              "(10882, 10882)"
            ]
          },
          "metadata": {},
          "execution_count": 130
        }
      ]
    },
    {
      "cell_type": "code",
      "source": [
        "cosine_sim[1]"
      ],
      "metadata": {
        "colab": {
          "base_uri": "https://localhost:8080/"
        },
        "id": "brsLTXiG2Vr7",
        "outputId": "2694f519-ceab-4285-ae50-36c2f58d9e11"
      },
      "execution_count": null,
      "outputs": [
        {
          "output_type": "execute_result",
          "data": {
            "text/plain": [
              "array([0.00922137, 0.99999994, 0.        , ..., 0.        , 0.01560123,\n",
              "       0.        ], dtype=float32)"
            ]
          },
          "metadata": {},
          "execution_count": 131
        }
      ]
    },
    {
      "cell_type": "code",
      "source": [
        "indices = pd.Series(df.index, index=df['title'])"
      ],
      "metadata": {
        "id": "YlGYLdmv2Yi8"
      },
      "execution_count": null,
      "outputs": []
    },
    {
      "cell_type": "code",
      "source": [
        "indices.index.value_counts().sort_values(ascending=False)\n"
      ],
      "metadata": {
        "colab": {
          "base_uri": "https://localhost:8080/"
        },
        "id": "DJD6X7-52hbg",
        "outputId": "f43d0ea5-c054-4336-aa3e-edbb4365f558"
      },
      "execution_count": null,
      "outputs": [
        {
          "output_type": "execute_result",
          "data": {
            "text/plain": [
              "Waiting to Exhale                   1\n",
              "Twelve Monkeys                      1\n",
              "Vampire in Brooklyn                 1\n",
              "Black Sheep                         1\n",
              "Last Summer in the Hamptons         1\n",
              "                                   ..\n",
              "The Man with the Rubber Head        1\n",
              "The Untameable Whiskers             1\n",
              "The Fat and Lean Wrestling Match    1\n",
              "St. Michael Had a Rooster           1\n",
              "Betrayal                            1\n",
              "Name: title, Length: 10882, dtype: int64"
            ]
          },
          "metadata": {},
          "execution_count": 133
        }
      ]
    },
    {
      "cell_type": "code",
      "source": [
        "indices[\"Cinderella\"]"
      ],
      "metadata": {
        "colab": {
          "base_uri": "https://localhost:8080/"
        },
        "id": "ldYqr71eAeqQ",
        "outputId": "c3f59963-542f-4848-cd8a-e84346cc9682"
      },
      "execution_count": null,
      "outputs": [
        {
          "output_type": "execute_result",
          "data": {
            "text/plain": [
              "8898"
            ]
          },
          "metadata": {},
          "execution_count": 134
        }
      ]
    },
    {
      "cell_type": "code",
      "source": [
        "indices[\"Django Unchained\"]"
      ],
      "metadata": {
        "colab": {
          "base_uri": "https://localhost:8080/"
        },
        "id": "rmnW3vmsCuRB",
        "outputId": "25da6120-663b-4083-e43c-65825e47e518"
      },
      "execution_count": null,
      "outputs": [
        {
          "output_type": "execute_result",
          "data": {
            "text/plain": [
              "5012"
            ]
          },
          "metadata": {},
          "execution_count": 135
        }
      ]
    },
    {
      "cell_type": "code",
      "source": [
        "# Check if the movie title \"Cinderella\" is present in the index\n",
        "if \"Cinderella\" in indices:\n",
        "    movie_index = indices[\"Cinderella\"]\n",
        "    cosine_sim_cinderella = cosine_sim[movie_index]\n",
        "    print(cosine_sim_cinderella)\n",
        "else:\n",
        "    print(\"Movie title 'Cinderella' is not found in the DataFrame index.\")"
      ],
      "metadata": {
        "colab": {
          "base_uri": "https://localhost:8080/"
        },
        "id": "s5amMLmo_sld",
        "outputId": "5f8daed5-2a4a-484e-aee7-096e4a014758"
      },
      "execution_count": null,
      "outputs": [
        {
          "output_type": "stream",
          "name": "stdout",
          "text": [
            "[0. 0. 0. ... 0. 0. 0.]\n"
          ]
        }
      ]
    },
    {
      "cell_type": "code",
      "source": [
        "cosine_sim[movie_index]\n"
      ],
      "metadata": {
        "colab": {
          "base_uri": "https://localhost:8080/"
        },
        "id": "-ziw7J3A2v6V",
        "outputId": "6a49c006-15b2-40cc-e3d3-81f1847e4bc2"
      },
      "execution_count": null,
      "outputs": [
        {
          "output_type": "execute_result",
          "data": {
            "text/plain": [
              "array([0., 0., 0., ..., 0., 0., 0.], dtype=float32)"
            ]
          },
          "metadata": {},
          "execution_count": 137
        }
      ]
    },
    {
      "cell_type": "code",
      "source": [
        "similarity_scores = pd.DataFrame(cosine_sim[movie_index],\n",
        "                                 columns=[\"score\"])"
      ],
      "metadata": {
        "id": "wsm6U9Wy2xgx"
      },
      "execution_count": null,
      "outputs": []
    },
    {
      "cell_type": "code",
      "source": [
        "movie_indices = similarity_scores.sort_values(\"score\", ascending=False)[1:11].index\n"
      ],
      "metadata": {
        "id": "z0myBRTs2zFJ"
      },
      "execution_count": null,
      "outputs": []
    },
    {
      "cell_type": "code",
      "source": [
        "df['title'].iloc[movie_indices]"
      ],
      "metadata": {
        "colab": {
          "base_uri": "https://localhost:8080/"
        },
        "id": "XNOW6rbS20Zs",
        "outputId": "578175bc-6c05-4013-ca2e-9338eae61db0"
      },
      "execution_count": null,
      "outputs": [
        {
          "output_type": "execute_result",
          "data": {
            "text/plain": [
              "9100                  Die Konferenz der Tiere\n",
              "4653                         Little Criminals\n",
              "208                        Maybe... Maybe Not\n",
              "2073    The Golem: How He Came Into the World\n",
              "4586                            The Way South\n",
              "883           Pandora and the Flying Dutchman\n",
              "1633                          Death in Venice\n",
              "4105        Harlan: In the Shadow of Jew Süss\n",
              "9254                            Island Guests\n",
              "6033                      The Obama Deception\n",
              "Name: title, dtype: object"
            ]
          },
          "metadata": {},
          "execution_count": 140
        }
      ]
    },
    {
      "cell_type": "code",
      "source": [
        "def content_based_recommender(title, cosine_sim, dataframe):\n",
        "    # index'leri olusturma\n",
        "    indices = pd.Series(dataframe.index, index=dataframe['title'])\n",
        "    indices = indices[~indices.index.duplicated(keep='last')]\n",
        "    # title'ın index'ini yakalama\n",
        "    movie_index = indices[title]\n",
        "    # title'a gore benzerlik skorlarını hesapalama\n",
        "    similarity_scores = pd.DataFrame(cosine_sim[movie_index], columns=[\"score\"])\n",
        "    # kendisi haric ilk 10 filmi getirme\n",
        "    movie_indices = similarity_scores.sort_values(\"score\", ascending=False)[1:11].index\n",
        "    return dataframe['title'].iloc[movie_indices]"
      ],
      "metadata": {
        "id": "q0bp6gHf22pj"
      },
      "execution_count": null,
      "outputs": []
    },
    {
      "cell_type": "code",
      "source": [
        "content_based_recommender(\"Django Unchained\", cosine_sim, df)\n"
      ],
      "metadata": {
        "colab": {
          "base_uri": "https://localhost:8080/"
        },
        "id": "rSafkVj424El",
        "outputId": "bfc8475c-9aad-4bc4-b6a6-c14186fc679f"
      },
      "execution_count": null,
      "outputs": [
        {
          "output_type": "execute_result",
          "data": {
            "text/plain": [
              "3700    The First Day of the Rest of Your Life\n",
              "8091                      Hollywood Vice Squad\n",
              "7435                 Cocaine Cowboys: Reloaded\n",
              "6949                                    Amador\n",
              "6692                                     Tempo\n",
              "7427        Chelsea Peretti: One of the Greats\n",
              "4210                                    DeVour\n",
              "4293                          Tomorrow We Move\n",
              "101                       The Age of Innocence\n",
              "4678                                     Miral\n",
              "Name: title, dtype: object"
            ]
          },
          "metadata": {},
          "execution_count": 142
        }
      ]
    },
    {
      "cell_type": "code",
      "source": [
        "content_based_recommender(\"Cinderella\", cosine_sim, df)\n"
      ],
      "metadata": {
        "colab": {
          "base_uri": "https://localhost:8080/"
        },
        "id": "nGl4K1Tj26QU",
        "outputId": "59537638-3926-471a-b368-37c075ad37a1"
      },
      "execution_count": null,
      "outputs": [
        {
          "output_type": "execute_result",
          "data": {
            "text/plain": [
              "9100                  Die Konferenz der Tiere\n",
              "4653                         Little Criminals\n",
              "208                        Maybe... Maybe Not\n",
              "2073    The Golem: How He Came Into the World\n",
              "4586                            The Way South\n",
              "883           Pandora and the Flying Dutchman\n",
              "1633                          Death in Venice\n",
              "4105        Harlan: In the Shadow of Jew Süss\n",
              "9254                            Island Guests\n",
              "6033                      The Obama Deception\n",
              "Name: title, dtype: object"
            ]
          },
          "metadata": {},
          "execution_count": 143
        }
      ]
    },
    {
      "cell_type": "code",
      "source": [
        "content_based_recommender(\"Interstellar\", cosine_sim, df)\n"
      ],
      "metadata": {
        "colab": {
          "base_uri": "https://localhost:8080/"
        },
        "id": "qbaNUzhl28yb",
        "outputId": "8fd07ddd-11fc-4724-c573-0429025fd631"
      },
      "execution_count": null,
      "outputs": [
        {
          "output_type": "execute_result",
          "data": {
            "text/plain": [
              "1930                Saved!\n",
              "6984        Saturday Night\n",
              "591           Dry Cleaning\n",
              "4901       West of Memphis\n",
              "3112     Diary of the Dead\n",
              "10859               Origin\n",
              "1688            Storyville\n",
              "2556               Stealth\n",
              "9839         Hide and Seek\n",
              "11333    American Violence\n",
              "Name: title, dtype: object"
            ]
          },
          "metadata": {},
          "execution_count": 144
        }
      ]
    },
    {
      "cell_type": "code",
      "source": [
        "content_based_recommender('Fight Club', cosine_sim, df)\n"
      ],
      "metadata": {
        "colab": {
          "base_uri": "https://localhost:8080/"
        },
        "id": "eHbCIVVl2-eY",
        "outputId": "c3f5824b-25e3-453a-ea4a-860a7905b577"
      },
      "execution_count": null,
      "outputs": [
        {
          "output_type": "execute_result",
          "data": {
            "text/plain": [
              "6584                        Merlin's Apprentice\n",
              "8252                           The Night Before\n",
              "7902                                After Death\n",
              "5839                 X-Men: Days of Future Past\n",
              "10754                   Santo en Anónimo mortal\n",
              "8130                                Salem Falls\n",
              "9598     The Holy Modal Rounders: Bound to Lose\n",
              "10796                              White Coffin\n",
              "6912                             American Heist\n",
              "3832                Bless the Beasts & Children\n",
              "Name: title, dtype: object"
            ]
          },
          "metadata": {},
          "execution_count": 145
        }
      ]
    },
    {
      "cell_type": "code",
      "source": [
        "def calculate_cosine_sim(dataframe):\n",
        "    tfidf = TfidfVectorizer(stop_words='english')\n",
        "    dataframe['overview'] = dataframe['overview'].fillna('')\n",
        "    tfidf_matrix = tfidf.fit_transform(dataframe['overview'])\n",
        "    cosine_sim = cosine_similarity(tfidf_matrix, tfidf_matrix)\n",
        "    return cosine_sim"
      ],
      "metadata": {
        "id": "IpMH_0Tk3AJj"
      },
      "execution_count": null,
      "outputs": []
    },
    {
      "cell_type": "code",
      "source": [
        "cosine_sim = calculate_cosine_sim(df)\n",
        "content_based_recommender('Fight Club', cosine_sim, df)"
      ],
      "metadata": {
        "colab": {
          "base_uri": "https://localhost:8080/"
        },
        "id": "faGnm54V3C3q",
        "outputId": "77da7637-65a7-46de-be08-d55ac39bb22a"
      },
      "execution_count": null,
      "outputs": [
        {
          "output_type": "execute_result",
          "data": {
            "text/plain": [
              "6584                        Merlin's Apprentice\n",
              "8252                           The Night Before\n",
              "7902                                After Death\n",
              "5839                 X-Men: Days of Future Past\n",
              "10754                   Santo en Anónimo mortal\n",
              "8130                                Salem Falls\n",
              "9598     The Holy Modal Rounders: Bound to Lose\n",
              "10796                              White Coffin\n",
              "6912                             American Heist\n",
              "3832                Bless the Beasts & Children\n",
              "Name: title, dtype: object"
            ]
          },
          "metadata": {},
          "execution_count": 147
        }
      ]
    },
    {
      "cell_type": "code",
      "source": [
        "def content_based_recommender_user_input(cosine_sim, dataframe):\n",
        "\n",
        "    user_input_movie = input(\"What movie do you want to watch next? Enter the movie title: \")\n",
        "\n",
        "    if user_input_movie not in dataframe['title'].values:\n",
        "        print(\"Movie not found in the dataset. Please try another movie.\")\n",
        "        return\n",
        "\n",
        "    user_input_rating = input(\"Enter your desired minimum rating score (0-10): \")\n",
        "\n",
        "    try:\n",
        "        user_input_rating = float(user_input_rating)\n",
        "        if user_input_rating < 0 or user_input_rating > 10:\n",
        "            print(\"Invalid rating score. Please enter a number between 0 and 10.\")\n",
        "            return\n",
        "    except ValueError:\n",
        "        print(\"Invalid rating score. Please enter a valid number between 0 and 10.\")\n",
        "        return\n",
        "\n",
        "    recommendations = content_based_recommender(user_input_movie, cosine_sim, dataframe, user_input_rating)\n",
        "\n",
        "    print(\"\\nRecommended movies based on similarity to '{}' with a rating score of {} or above:\".format(user_input_movie, user_input_rating))\n",
        "    print(\"--------------------------------------------------------------------------------------------\")\n",
        "    for index, movie in recommendations.iterrows():\n",
        "        print(\"Title:\", movie['title'])\n",
        "        print(\"Overview:\", movie['overview'])\n",
        "        genres = ', '.join([genre['name'] for genre in eval(movie['genres'])])\n",
        "        print(\"Genres:\", genres)\n",
        "        print(\"Original Language:\", movie['original_language'])\n",
        "        print(\"Popularity:\", movie['popularity'])\n",
        "        print(\"Runtime:\", movie['runtime'])\n",
        "        print(\"Vote Average:\", movie['vote_average'])\n",
        "        print(\"Vote Count:\", movie['vote_count'])\n",
        "        print(\"--------------------------------------------------------------------------------------------\")\n",
        "\n",
        "\n",
        "def content_based_recommender(title, cosine_sim, dataframe, min_rating):\n",
        "    indices = pd.Series(dataframe.index, index=dataframe['title'])\n",
        "    indices = indices[~indices.index.duplicated(keep='last')]\n",
        "    movie_index = indices[title]\n",
        "    similarity_scores = pd.DataFrame(cosine_sim[movie_index], columns=[\"score\"])\n",
        "    movie_indices = similarity_scores[(similarity_scores['score'] > 0) &\n",
        "                                       (dataframe['vote_average'] >= min_rating)].sort_values(\"score\", ascending=False)[1:11].index\n",
        "    return dataframe.loc[movie_indices]\n",
        "\n",
        "content_based_recommender_user_input(cosine_sim, df)\n"
      ],
      "metadata": {
        "colab": {
          "base_uri": "https://localhost:8080/"
        },
        "id": "V4fEuQAz3FFj",
        "outputId": "70518451-412e-4d97-b573-5c7be295c155"
      },
      "execution_count": null,
      "outputs": [
        {
          "output_type": "stream",
          "name": "stdout",
          "text": [
            "What movie do you want to watch next? Enter the movie title: Django Unchained\n",
            "Enter your desired minimum rating score (0-10): 8.5\n",
            "\n",
            "Recommended movies based on similarity to 'Django Unchained' with a rating score of 8.5 or above:\n",
            "--------------------------------------------------------------------------------------------\n",
            "Title: My Foolish Heart\n",
            "Overview: After a long absence, Mary Jane visits her schoolfriend Eloise, and Eloise's daughter Ramona. Eloise drinks too much and is unhappily married to Lew Wengler. Eloise falls asleep and remembers her time with her true love, Walt Dreiser, at the beginning of the Second World War. She recalls the events that lead up to her split with Mary Jane, and how Lew married Eloise rather than Mary Jane.\n",
            "Genres: \n",
            "Original Language: en\n",
            "Popularity: 0.065284\n",
            "Runtime: 98.0\n",
            "Vote Average: 10.0\n",
            "Vote Count: 1.0\n",
            "--------------------------------------------------------------------------------------------\n",
            "Title: Recollections of the Yellow House\n",
            "Overview: In his debut as his libidinous alter ego João de Deus, Monteiro stars as a meticulous and melancholy bachelor living in a rambling boarding house and feverishly obsessed with his landlady’s daughter. A ribald yet wonderfully delicate comedy, Memories of the Yellow House traces the indecisive, dangerous ripening of erotic fantasy as João’s voyeuristic rituals push him to further, unexpected extremes. The rich mellowing of Monteiro’s political address is embodied in the figure of the boarding house whose sanctimonious and narcissistic landlady is both a loose metaphor for the repressive, reactionary tendencies of postwar Portuguese society and an affectionately comic figure.\n",
            "Genres: Comedy\n",
            "Original Language: pt\n",
            "Popularity: 0.002001\n",
            "Runtime: 122.0\n",
            "Vote Average: 8.5\n",
            "Vote Count: 4.0\n",
            "--------------------------------------------------------------------------------------------\n",
            "Title: Bipolar\n",
            "Overview: When Harry Poole tries out a new medication for Bipolar Disorder, he is reborn as \"Edward Grey\", a seductive but dangerous alter ego who dramatically takes over his life, changing the young man and those around him forever.\n",
            "Genres: Thriller, Mystery\n",
            "Original Language: en\n",
            "Popularity: 0.543602\n",
            "Runtime: 80.0\n",
            "Vote Average: 9.0\n",
            "Vote Count: 1.0\n",
            "--------------------------------------------------------------------------------------------\n",
            "Title: Hell to Eternity\n",
            "Overview: Based on the story about Guy Gabaldon, a Los Angeles Hispanic boy raised in the 1930s by a Japanese-American foster family. After Pearl Harbor, his foster family is interned at the Manzanar camp for Japanese Americans, while he enlists in the Marines, where his ability to speak Japanese becomes a vital asset. During the Battle of Saipan, he convinces 800 Japanese to surrender after their general commits suicide.\n",
            "Genres: Drama, War\n",
            "Original Language: en\n",
            "Popularity: 0.157003\n",
            "Runtime: 131.0\n",
            "Vote Average: 10.0\n",
            "Vote Count: 1.0\n",
            "--------------------------------------------------------------------------------------------\n",
            "Title: Timecode\n",
            "Overview: Luna and Diego are the parking lot security guards. Diego does the night shift, and Luna works by day.\n",
            "Genres: \n",
            "Original Language: en\n",
            "Popularity: 0.587178\n",
            "Runtime: 15.0\n",
            "Vote Average: 8.6\n",
            "Vote Count: 7.0\n",
            "--------------------------------------------------------------------------------------------\n",
            "Title: Stretch and Bobbito: Radio That Changed Lives\n",
            "Overview: Exploring the social impact of what the Source Magazine in 1998 voted, \"The Best Hip Hop Radio Show Of All-Time.\" The documentary film is the story of quirky friends who became unlikely legends by engaging their listeners and breaking the biggest rap artists ever.\n",
            "Genres: Documentary\n",
            "Original Language: en\n",
            "Popularity: 1.131106\n",
            "Runtime: 90.0\n",
            "Vote Average: 9.0\n",
            "Vote Count: 6.0\n",
            "--------------------------------------------------------------------------------------------\n",
            "Title: Margaret Cho: I'm the One That I Want\n",
            "Overview: November, 1999, Margaret Cho is home in San Francisco at the Warfield Theater. Cho structures her monologue loosely on her professional life's trajectory: doing stand-up, cast in an ABC-TV sitcom, losing 30 pounds in two weeks for the part, the show's cancellation, a descent into booze, pills, and self-loathing, and a resurrection into her own voice, her own shape, and being the one she wants.\n",
            "Genres: Comedy\n",
            "Original Language: en\n",
            "Popularity: 0.109302\n",
            "Runtime: 96.0\n",
            "Vote Average: 8.7\n",
            "Vote Count: 3.0\n",
            "--------------------------------------------------------------------------------------------\n",
            "Title: Lady Windermere's Fan\n",
            "Overview: Mrs Erlynne, the mother of Lady Windermere - her daughter does not know about her - wants to be introduced in society, so that she can marry Lord Augustus Lorton. Lord Windermere, who helped her with a cheque, invites her to his wifes birthday-party, but Lady Windermere thinks, she has reason to be jealous, so she decides to leave her husband and go to Lord Darlington, who is pining for her. Mrs Erlynne finds this out and tries to prevent her of this mistake, but her daughter leaves her fan in Lord Darlingtons residence.\n",
            "Genres: Comedy\n",
            "Original Language: en\n",
            "Popularity: 0.49755\n",
            "Runtime: 120.0\n",
            "Vote Average: 8.5\n",
            "Vote Count: 2.0\n",
            "--------------------------------------------------------------------------------------------\n",
            "Title: Madagascar\n",
            "Overview: On the east side of the island, rugged mountains rise dramatically from the palm fringed Indian Ocean. These uplands catch drenching rains almost all year round - steep and inaccessible, they are the most diverse part of the island. \"Lost Worlds\" travels from the highest mountains, where trees are few and it's cold enough for frost, through the lush, cloaking rainforests, down to the tropical coast, discovering the ringtailed lemurs, the jeweled geckos and the predatory wasps. So what is it that has made this narrow eastern strip in particular so rich in life?\n",
            "Genres: Documentary, Foreign\n",
            "Original Language: en\n",
            "Popularity: 0.15962\n",
            "Runtime: 240.0\n",
            "Vote Average: 8.6\n",
            "Vote Count: 4.0\n",
            "--------------------------------------------------------------------------------------------\n",
            "Title: The Little Hut\n",
            "Overview: Sir Philip Ashlow (Stewart Granger), his neglected wife, Lady Ashlow (Ava Gardner) and his best friend Henry Brittingham-Brett (David Niven) are shipwrecked on a desert island. This potential ménage à trois where the two men compete for the lady's attention is interrupted by the unexpected arrival of a fourth inhabitant of the island.\n",
            "Genres: Comedy, Romance\n",
            "Original Language: en\n",
            "Popularity: 0.883862\n",
            "Runtime: 90.0\n",
            "Vote Average: 10.0\n",
            "Vote Count: 2.0\n",
            "--------------------------------------------------------------------------------------------\n"
          ]
        },
        {
          "output_type": "stream",
          "name": "stderr",
          "text": [
            "<ipython-input-148-5c8506a5ba51>:53: UserWarning: Boolean Series key will be reindexed to match DataFrame index.\n",
            "  movie_indices = similarity_scores[(similarity_scores['score'] > 0) &\n"
          ]
        }
      ]
    }
  ]
}